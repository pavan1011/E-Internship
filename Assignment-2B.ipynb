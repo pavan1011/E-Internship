{
 "cells": [
  {
   "cell_type": "markdown",
   "metadata": {},
   "source": [
    "<div style=\"display:block\">\n",
    "    <div style=\"width: 20%; display: inline-block; text-align: left;\">\n",
    "    </div>\n",
    "    <div style=\"width: 59%; display: inline-block\">\n",
    "        <h1  style=\"text-align: center\">Assignment 2B</h1>\n",
    "        <div style=\"width: 100%; text-align: center; display: inline-block;\"><i>Author:</i> <strong>Pavan Kumar</strong> </div>\n",
    "    </div>\n",
    "    <div style=\"width: 20%; text-align: right; display: inline-block;\">\n",
    "        <div style=\"width: 100%; text-align: left; display: inline-block;\">\n",
    "            <i>Created: </i>\n",
    "            <time datetime=\"2014-03-10\" pubdate>18th May 2018</time>\n",
    "        </div>\n",
    "    </div>\n",
    "</div>"
   ]
  },
  {
   "cell_type": "code",
   "execution_count": 1,
   "metadata": {},
   "outputs": [],
   "source": [
    "import numpy as np\n",
    "from IPython.display import display, Markdown, Latex"
   ]
  },
  {
   "cell_type": "code",
   "execution_count": 2,
   "metadata": {},
   "outputs": [],
   "source": [
    "def sigmoid(x, derivative=False):\n",
    "  return x * (1-x) if derivative else 1 /(1 + np.exp(-x))"
   ]
  },
  {
   "cell_type": "markdown",
   "metadata": {},
   "source": [
    "## Step 0\n",
    "Read the input and output\n",
    "![Step 0](https://s3-ap-south-1.amazonaws.com/av-blog-media/wp-content/uploads/2017/05/26185640/0.0NN.jpg)"
   ]
  },
  {
   "cell_type": "code",
   "execution_count": 3,
   "metadata": {},
   "outputs": [
    {
     "name": "stdout",
     "output_type": "stream",
     "text": [
      "[[1 0 1 0]\n",
      " [1 0 1 1]\n",
      " [0 1 0 1]]\n",
      "[[1 1 0]]\n"
     ]
    }
   ],
   "source": [
    "X = [[1, 0, 1, 0],\n",
    "     [1, 0, 1, 1],\n",
    "     [0, 1, 0, 1]]\n",
    "Y = [[1, 1, 0]]\n",
    "\n",
    "observed_data = np.array(X)\n",
    "actual_dependent = np.array(Y)\n",
    "print(observed_data)\n",
    "print(actual_dependent)"
   ]
  },
  {
   "cell_type": "markdown",
   "metadata": {},
   "source": [
    "## Step 1\n",
    "Initialize weights and biases with random values (There are methods to initialize weights and biases but for now initialize with random values)"
   ]
  },
  {
   "cell_type": "code",
   "execution_count": 4,
   "metadata": {},
   "outputs": [
    {
     "name": "stdout",
     "output_type": "stream",
     "text": [
      "(3, 4)\n",
      "(Number of Rows, No. of Features)\n"
     ]
    }
   ],
   "source": [
    "input_shape = np.shape(observed_data)\n",
    "print(input_shape)\n",
    "print(\"(Number of Rows, No. of Features)\")"
   ]
  },
  {
   "cell_type": "code",
   "execution_count": 5,
   "metadata": {},
   "outputs": [
    {
     "name": "stdout",
     "output_type": "stream",
     "text": [
      "Weights - Hidden Layer 1\n",
      "[[ 0.7   0.84  0.68]\n",
      " [ 0.73  0.95  0.01]\n",
      " [ 0.41  0.05  0.1 ]\n",
      " [ 0.51  0.2   0.74]]\n",
      "Bias - Hidden Layer 1\n",
      "[[ 0.19  0.7   0.29]]\n"
     ]
    }
   ],
   "source": [
    "np.random.seed(666)\n",
    "\n",
    "weights_h1 = np.around(np.random.rand(input_shape[1], input_shape[0]),2)\n",
    "\n",
    "#We need 1 bias for each data point in the layer\n",
    "bias_h1 = np.around(np.random.rand(1, input_shape[0]),2)\n",
    "print(\"Weights - Hidden Layer 1\")\n",
    "print(weights_h1)\n",
    "print(\"Bias - Hidden Layer 1\")\n",
    "print(bias_h1)\n"
   ]
  },
  {
   "cell_type": "code",
   "execution_count": 6,
   "metadata": {},
   "outputs": [],
   "source": [
    "output_shape = np.shape(actual_dependent)"
   ]
  },
  {
   "cell_type": "code",
   "execution_count": 7,
   "metadata": {},
   "outputs": [
    {
     "name": "stdout",
     "output_type": "stream",
     "text": [
      "Weights - Output\n",
      "[[ 0.77]\n",
      " [ 0.01]\n",
      " [ 0.11]]\n",
      "Bias - Output\n",
      "[[ 0.11]]\n"
     ]
    }
   ],
   "source": [
    "weights_out = np.around(np.random.rand(output_shape[1], output_shape[0]),2)\n",
    "bias_out = np.around(np.random.rand(1, output_shape[0]),2)\n",
    "print(\"Weights - Output\")\n",
    "print(weights_out)\n",
    "print(\"Bias - Output\")\n",
    "print(bias_out)"
   ]
  },
  {
   "cell_type": "markdown",
   "metadata": {},
   "source": [
    "|X|  |  |  |wh  |     |     |bh  |     |     |hidden_layer_input|||hidden_layer_activations|||wout|bout|output|Y|E|\n",
    "|----------|----------------|----------------|----|-----|---------|------|---------|---------|----|----|------|-|-|\n",
    "|1| 0| 1| 0|0.70| 0.84| 0.68|0.19| 0.70| 0.29|    |     |         |      |         |         |0.37|0.22|      |1| |\n",
    "|1| 0| 1| 1|0.73| 0.95| 0.01|    |     |     |    |     |         |      |         |         |0.08|    |      |1| |\n",
    "|0| 1| 0| 1|0.41| 0.05| 0.10|    |     |     |    |     |         |      |         |         |0.78|    |      |0| |\n",
    "| |  |  |  |0.51| 0.20| 0.74|    |     |     |    |     |         |      |         |         |    |    |      | | |"
   ]
  },
  {
   "cell_type": "markdown",
   "metadata": {},
   "source": [
    "## Step 2\n",
    "Calculate hidden layer input"
   ]
  },
  {
   "cell_type": "code",
   "execution_count": 8,
   "metadata": {},
   "outputs": [],
   "source": [
    "hidden_layer_input = np.around(np.dot(observed_data, weights_h1) + bias_h1,2)"
   ]
  },
  {
   "cell_type": "code",
   "execution_count": 9,
   "metadata": {},
   "outputs": [
    {
     "data": {
      "text/plain": [
       "array([[ 1.3 ,  1.59,  1.07],\n",
       "       [ 1.81,  1.79,  1.81],\n",
       "       [ 1.43,  1.85,  1.04]])"
      ]
     },
     "execution_count": 9,
     "metadata": {},
     "output_type": "execute_result"
    }
   ],
   "source": [
    "hidden_layer_input"
   ]
  },
  {
   "cell_type": "markdown",
   "metadata": {},
   "source": [
    "|X|  |  |  |wh  |     |     |bh  |     |     |hidden_layer_input|||hidden_layer_activations|||wout|bout|output|Y|E|\n",
    "|----------|----------------|----------------|----|-----|---------|------|---------|---------|----|----|------|-|-|\n",
    "|1| 0| 1| 0|0.70| 0.84| 0.68|0.19| 0.70| 0.29|1.3 |1.59 |1.07     |      |         |         |0.37|0.22|      |1| |\n",
    "|1| 0| 1| 1|0.73| 0.95| 0.01|    |     |     |1.81|1.79 |1.81     |      |         |         |0.08|    |      |1| |\n",
    "|0| 1| 0| 1|0.41| 0.05| 0.10|    |     |     |1.43|1.85 |1.04     |      |         |         |0.78|    |      |0| |\n",
    "| |  |  |  |0.51| 0.20| 0.74|    |     |     |    |     |         |      |         |         |    |    |      | | |"
   ]
  },
  {
   "cell_type": "markdown",
   "metadata": {},
   "source": [
    "# Step 3\n",
    "Perform non-linear transformation on hidden linear input"
   ]
  },
  {
   "cell_type": "code",
   "execution_count": 10,
   "metadata": {},
   "outputs": [],
   "source": [
    "hidden_layer_activations = np.around(sigmoid(hidden_layer_input),2)"
   ]
  },
  {
   "cell_type": "code",
   "execution_count": 11,
   "metadata": {},
   "outputs": [
    {
     "data": {
      "text/plain": [
       "array([[ 0.79,  0.83,  0.74],\n",
       "       [ 0.86,  0.86,  0.86],\n",
       "       [ 0.81,  0.86,  0.74]])"
      ]
     },
     "execution_count": 11,
     "metadata": {},
     "output_type": "execute_result"
    }
   ],
   "source": [
    "hidden_layer_activations"
   ]
  },
  {
   "cell_type": "markdown",
   "metadata": {},
   "source": [
    "|X|  |  |  |wh  |     |     |bh  |     |     |hidden_layer_input|||hidden_layer_activations|||wout|bout|output|Y|E|\n",
    "|----------|----------------|----------------|----|-----|---------|------|---------|---------|----|----|------|-|-|\n",
    "|1| 0| 1| 0|0.70| 0.84| 0.68|0.19| 0.70| 0.29|1.3 |1.59 |1.07     |0.79  |0.83     |0.74     |0.37|0.22|      |1| |\n",
    "|1| 0| 1| 1|0.73| 0.95| 0.01|    |     |     |1.81|1.79 |1.81     |0.86  |0.86     |0.86     |0.08|    |      |1| |\n",
    "|0| 1| 0| 1|0.41| 0.05| 0.10|    |     |     |1.43|1.85 |1.04     |0.81  |0.86     |0.74     |0.78|    |      |0| |\n",
    "| |  |  |  |0.51| 0.20| 0.74|    |     |     |    |     |         |      |         |         |    |    |      | | |"
   ]
  },
  {
   "cell_type": "markdown",
   "metadata": {},
   "source": [
    "## Step 4\n",
    "Perform linear and non-linear transformation of hidden layer activation at output layer"
   ]
  },
  {
   "cell_type": "code",
   "execution_count": 12,
   "metadata": {},
   "outputs": [],
   "source": [
    "output_layer_input = np.dot(hidden_layer_activations, weights_out) + bias_out\n",
    "output_layer_activation =  np.around(sigmoid(output_layer_input),2)"
   ]
  },
  {
   "cell_type": "code",
   "execution_count": 13,
   "metadata": {},
   "outputs": [
    {
     "data": {
      "text/plain": [
       "array([[ 0.69],\n",
       "       [ 0.71],\n",
       "       [ 0.7 ]])"
      ]
     },
     "execution_count": 13,
     "metadata": {},
     "output_type": "execute_result"
    }
   ],
   "source": [
    "output_layer_activation"
   ]
  },
  {
   "cell_type": "markdown",
   "metadata": {},
   "source": [
    "|X|  |  |  |wh  |     |     |bh  |     |     |hidden_layer_input|||hidden_layer_activations|||wout|bout|output|Y|E|\n",
    "|----------|----------------|----------------|----|-----|---------|------|---------|---------|----|----|------|-|-|\n",
    "|1| 0| 1| 0|0.70| 0.84| 0.68|0.19| 0.70| 0.29|1.3 |1.59 |1.07     |0.79  |0.83    |0.74     |0.37|0.22|0.69  |1| |\n",
    "|1| 0| 1| 1|0.73| 0.95| 0.01|    |     |     |1.81|1.79 |1.81     |0.86  |0.86     |0.86     |0.08|    |0.71  |1| |\n",
    "|0| 1| 0| 1|0.41| 0.05| 0.10|    |     |     |1.43|1.85 |1.04     |0.81  |0.86     |0.74     |0.78|    |0.7   |0| |\n",
    "| |  |  |  |0.51| 0.20| 0.74|    |     |     |    |     |         |      |         |         |    |    |      | | |"
   ]
  },
  {
   "cell_type": "markdown",
   "metadata": {},
   "source": [
    "## Step 5\n",
    "Calculate gradient of Error(E) at output layer"
   ]
  },
  {
   "cell_type": "code",
   "execution_count": 14,
   "metadata": {},
   "outputs": [],
   "source": [
    "error = actual_dependent.T - output_layer_activation"
   ]
  },
  {
   "cell_type": "code",
   "execution_count": 15,
   "metadata": {},
   "outputs": [
    {
     "data": {
      "text/plain": [
       "array([[ 0.31],\n",
       "       [ 0.29],\n",
       "       [-0.7 ]])"
      ]
     },
     "execution_count": 15,
     "metadata": {},
     "output_type": "execute_result"
    }
   ],
   "source": [
    "error"
   ]
  },
  {
   "cell_type": "markdown",
   "metadata": {},
   "source": [
    "|X|  |  |  |wh  |     |     |bh  |     |     |hidden_layer_input|||hidden_layer_activations|||wout|bout|output|Y|E|\n",
    "|----------|----------------|----------------|----|-----|---------|------|---------|---------|----|----|------|-|-|\n",
    "|1| 0| 1| 0|0.70| 0.84| 0.68|0.19| 0.70| 0.29|1.3 |1.59 |1.07     |0.79  |0.83     |0.74    |0.37|0.22|0.69  |1|0.31|\n",
    "|1| 0| 1| 1|0.73| 0.95| 0.01|    |     |     |1.81|1.79 |1.81     |0.86  |0.86     |0.86     |0.08|    |0.71  |1|0.29|\n",
    "|0| 1| 0| 1|0.41| 0.05| 0.10|    |     |     |1.43|1.85 |1.04     |0.81  |0.86     |0.74     |0.78|    |0.7   |0|-0.7|\n",
    "| |  |  |  |0.51| 0.20| 0.74|    |     |     |    |     |         |      |         |         |    |    |      | | |"
   ]
  },
  {
   "cell_type": "markdown",
   "metadata": {},
   "source": [
    "## Step 6\n",
    "Compute slope at output and hidden layer"
   ]
  },
  {
   "cell_type": "code",
   "execution_count": 16,
   "metadata": {},
   "outputs": [],
   "source": [
    "slope_output_activation = np.around(sigmoid(output_layer_activation, derivative=True),2)"
   ]
  },
  {
   "cell_type": "code",
   "execution_count": 17,
   "metadata": {},
   "outputs": [
    {
     "data": {
      "text/plain": [
       "array([[ 0.21],\n",
       "       [ 0.21],\n",
       "       [ 0.21]])"
      ]
     },
     "execution_count": 17,
     "metadata": {},
     "output_type": "execute_result"
    }
   ],
   "source": [
    "slope_output_activation"
   ]
  },
  {
   "cell_type": "code",
   "execution_count": 18,
   "metadata": {},
   "outputs": [],
   "source": [
    "slope_hidden_layer = np.around(sigmoid(hidden_layer_activations, derivative=True),2)"
   ]
  },
  {
   "cell_type": "code",
   "execution_count": 19,
   "metadata": {},
   "outputs": [
    {
     "data": {
      "text/plain": [
       "array([[ 0.17,  0.14,  0.19],\n",
       "       [ 0.12,  0.12,  0.12],\n",
       "       [ 0.15,  0.12,  0.19]])"
      ]
     },
     "execution_count": 19,
     "metadata": {},
     "output_type": "execute_result"
    }
   ],
   "source": [
    "slope_hidden_layer"
   ]
  },
  {
   "cell_type": "markdown",
   "metadata": {},
   "source": [
    "|X|  |  |  |wh  |     |     |bh  |     |     |hidden_layer_input|||hidden_layer_activations|||wout|bout|output|Y|E|\n",
    "|----------|----------------|----------------|----|-----|---------|------|---------|---------|----|----|------|-|-|\n",
    "|1| 0| 1| 0|0.70| 0.84| 0.68|0.19| 0.70| 0.29|1.3 |1.59 |1.07     |0.79  |0.83     |0.74    |0.37|0.22|0.69  |1|0.31|\n",
    "|1| 0| 1| 1|0.73| 0.95| 0.01|    |     |     |1.81|1.79 |1.81     |0.86  |0.86     |0.86     |0.08|    |0.71  |1|0.29|\n",
    "|0| 1| 0| 1|0.41| 0.05| 0.10|    |     |     |1.43|1.85 |1.04     |0.81  |0.86     |0.74     |0.78|    |0.7   |0|-0.7|\n",
    "| |  |  |  |0.51| 0.20| 0.74|    |     |     |    |     |         |      |         |         |    |    |      | | |\n"
   ]
  },
  {
   "cell_type": "markdown",
   "metadata": {},
   "source": [
    "|slope_hidden_layer|    |     |slope_output|\n",
    "|------------------|----|-----|------------|\n",
    "|0.17              |0.14|0.19 |0.21        |\n",
    "|0.12              |0.12|0.12 |0.21        |\n",
    "|0.15              |0.12|0.19 |0.21        |"
   ]
  },
  {
   "cell_type": "markdown",
   "metadata": {},
   "source": [
    "# Step 7\n",
    "Compute delta at output layer"
   ]
  },
  {
   "cell_type": "code",
   "execution_count": 20,
   "metadata": {},
   "outputs": [],
   "source": [
    "delta_output = np.around(slope_output_activation * error,2)"
   ]
  },
  {
   "cell_type": "code",
   "execution_count": 21,
   "metadata": {},
   "outputs": [
    {
     "data": {
      "text/plain": [
       "array([[ 0.07],\n",
       "       [ 0.06],\n",
       "       [-0.15]])"
      ]
     },
     "execution_count": 21,
     "metadata": {},
     "output_type": "execute_result"
    }
   ],
   "source": [
    "delta_output"
   ]
  },
  {
   "cell_type": "markdown",
   "metadata": {},
   "source": [
    "|X|  |  |  |wh  |     |     |bh  |     |     |hidden_layer_input|||hidden_layer_activations|||wout|bout|output|Y|E|\n",
    "|----------|----------------|----------------|----|-----|---------|------|---------|---------|----|----|------|-|-|\n",
    "|1| 0| 1| 0|0.70| 0.84| 0.68|0.19| 0.70| 0.29|1.3 |1.59 |1.07     |0.79  |0.83     |0.74    |0.37|0.22|0.69  |1|0.31|\n",
    "|1| 0| 1| 1|0.73| 0.95| 0.01|    |     |     |1.81|1.79 |1.81     |0.86  |0.86     |0.86     |0.08|    |0.71  |1|0.29|\n",
    "|0| 1| 0| 1|0.41| 0.05| 0.10|    |     |     |1.43|1.85 |1.04     |0.81  |0.86     |0.74     |0.78|    |0.7   |0|-0.7|\n",
    "| |  |  |  |0.51| 0.20| 0.74|    |     |     |    |     |         |      |         |         |    |    |      | | |\n",
    "\n",
    "\n",
    "|slope_hidden_layer|    |     |slope_output| Error |\n",
    "|------------------|----|-----|------------|-------|\n",
    "|0.17              |0.14|0.19 |0.21        |0.31|\n",
    "|0.12              |0.12|0.12 |0.21        |0.29|\n",
    "|0.15              |0.12|0.19 |0.21        |-0.7|"
   ]
  },
  {
   "cell_type": "markdown",
   "metadata": {},
   "source": [
    "|delta_output|\n",
    "|------------|\n",
    "| 0.07|\n",
    "| 0.06|\n",
    "|-0.15|"
   ]
  },
  {
   "cell_type": "markdown",
   "metadata": {},
   "source": [
    "## Step 8\n",
    "Calculate Error at hidden layer"
   ]
  },
  {
   "cell_type": "code",
   "execution_count": 22,
   "metadata": {},
   "outputs": [],
   "source": [
    "error_h1 = np.around(np.dot(delta_output, weights_out.T),2)"
   ]
  },
  {
   "cell_type": "code",
   "execution_count": 23,
   "metadata": {},
   "outputs": [
    {
     "data": {
      "text/plain": [
       "array([[ 0.05,  0.  ,  0.01],\n",
       "       [ 0.05,  0.  ,  0.01],\n",
       "       [-0.12, -0.  , -0.02]])"
      ]
     },
     "execution_count": 23,
     "metadata": {},
     "output_type": "execute_result"
    }
   ],
   "source": [
    "error_h1"
   ]
  },
  {
   "cell_type": "markdown",
   "metadata": {},
   "source": [
    "|X|  |  |  |wh  |     |     |bh  |     |     |hidden_layer_input|||hidden_layer_activations|||wout|bout|output|Y|E|\n",
    "|----------|----------------|----------------|----|-----|---------|------|---------|---------|----|----|------|-|-|\n",
    "|1| 0| 1| 0|0.70| 0.84| 0.68|0.19| 0.70| 0.29|1.3 |1.59 |1.07     |0.79  |0.83     |0.74    |0.37|0.22|0.69  |1|0.31|\n",
    "|1| 0| 1| 1|0.73| 0.95| 0.01|    |     |     |1.81|1.79 |1.81     |0.86  |0.86     |0.86     |0.08|    |0.71  |1|0.29|\n",
    "|0| 1| 0| 1|0.41| 0.05| 0.10|    |     |     |1.43|1.85 |1.04     |0.81  |0.86     |0.74     |0.78|    |0.7   |0|-0.7|\n",
    "| |  |  |  |0.51| 0.20| 0.74|    |     |     |    |     |         |      |         |         |    |    |      | | |\n"
   ]
  },
  {
   "cell_type": "markdown",
   "metadata": {},
   "source": [
    "\n",
    "|slope_hidden_layer|    |     |error at hidden layer|  |     |slope_output| Error |\n",
    "|------------------|----|-----|---------------------|--|-----|------------|-------|\n",
    "|0.17              |0.14|0.19 |0.05                 | 0|0.01 |0.21        |0.31|\n",
    "|0.12              |0.12|0.12 |0.05                 | 0|0.01 |0.21        |0.29|\n",
    "|0.15              |0.12|0.19 |-0.12                | 0|-0.02|0.21        |-0.7|\n",
    "\n"
   ]
  },
  {
   "cell_type": "markdown",
   "metadata": {},
   "source": [
    "|delta_output|\n",
    "|------------|\n",
    "| 0.07|\n",
    "| 0.06|\n",
    "|-0.15|"
   ]
  },
  {
   "cell_type": "markdown",
   "metadata": {},
   "source": [
    "# Step 9 \n",
    "Compute delta at hidden layer"
   ]
  },
  {
   "cell_type": "code",
   "execution_count": 24,
   "metadata": {},
   "outputs": [],
   "source": [
    "delta_h1 = np.dot(error_h1, slope_hidden_layer)"
   ]
  },
  {
   "cell_type": "code",
   "execution_count": 25,
   "metadata": {},
   "outputs": [
    {
     "data": {
      "text/plain": [
       "array([[ 0.01  ,  0.0082,  0.0114],\n",
       "       [ 0.01  ,  0.0082,  0.0114],\n",
       "       [-0.0234, -0.0192, -0.0266]])"
      ]
     },
     "execution_count": 25,
     "metadata": {},
     "output_type": "execute_result"
    }
   ],
   "source": [
    "delta_h1"
   ]
  },
  {
   "cell_type": "markdown",
   "metadata": {},
   "source": [
    "\n",
    "|slope_hidden_layer|    |     |error at hidden layer|  |     |slope_output| Error |\n",
    "|------------------|----|-----|---------------------|--|-----|------------|-------|\n",
    "|0.17              |0.14|0.19 |0.05                 | 0|0.01 |0.21        |0.31|\n",
    "|0.12              |0.12|0.12 |0.05                 | 0|0.01 |0.21        |0.29|\n",
    "|0.15              |0.12|0.19 |-0.12                | 0|-0.02|0.21        |-0.7|\n",
    "\n",
    "|delta hidden layer|  |  |\n",
    "|------------------|--|--|\n",
    "|0.01              |0.0082 |0.0114 |\n",
    "|0.01              |0.0082 |0.0114 |\n",
    "|-0.0234           |-0.0192|-0.0266|"
   ]
  },
  {
   "cell_type": "markdown",
   "metadata": {},
   "source": [
    "## Step 10\n",
    "Update weight at both output and hidden layer\n"
   ]
  },
  {
   "cell_type": "code",
   "execution_count": 26,
   "metadata": {},
   "outputs": [],
   "source": [
    "learning_rate = 0.1"
   ]
  },
  {
   "cell_type": "code",
   "execution_count": 27,
   "metadata": {},
   "outputs": [],
   "source": [
    "weights_out =  weights_out + np.dot(hidden_layer_activations.T , delta_output) * learning_rate"
   ]
  },
  {
   "cell_type": "code",
   "execution_count": 28,
   "metadata": {},
   "outputs": [
    {
     "data": {
      "text/plain": [
       "array([[ 0.76854],\n",
       "       [ 0.00807],\n",
       "       [ 0.10924]])"
      ]
     },
     "execution_count": 28,
     "metadata": {},
     "output_type": "execute_result"
    }
   ],
   "source": [
    "weights_out"
   ]
  },
  {
   "cell_type": "code",
   "execution_count": 29,
   "metadata": {},
   "outputs": [],
   "source": [
    "weights_h1 = weights_h1 + np.dot(observed_data.T, delta_h1) * learning_rate"
   ]
  },
  {
   "cell_type": "code",
   "execution_count": 30,
   "metadata": {},
   "outputs": [
    {
     "data": {
      "text/plain": [
       "array([[ 0.702  ,  0.84164,  0.68228],\n",
       "       [ 0.72766,  0.94808,  0.00734],\n",
       "       [ 0.412  ,  0.05164,  0.10228],\n",
       "       [ 0.50866,  0.1989 ,  0.73848]])"
      ]
     },
     "execution_count": 30,
     "metadata": {},
     "output_type": "execute_result"
    }
   ],
   "source": [
    "weights_h1"
   ]
  },
  {
   "cell_type": "markdown",
   "metadata": {},
   "source": [
    "## Step 11\n",
    "Update biases at both output and hidden layer\n",
    "\n"
   ]
  },
  {
   "cell_type": "code",
   "execution_count": 32,
   "metadata": {},
   "outputs": [],
   "source": [
    "bias_out = bias_out + np.sum(delta_output, axis=0) * learning_rate"
   ]
  },
  {
   "cell_type": "code",
   "execution_count": 33,
   "metadata": {},
   "outputs": [
    {
     "data": {
      "text/plain": [
       "array([[ 0.108]])"
      ]
     },
     "execution_count": 33,
     "metadata": {},
     "output_type": "execute_result"
    }
   ],
   "source": [
    "bias_out"
   ]
  },
  {
   "cell_type": "code",
   "execution_count": 34,
   "metadata": {},
   "outputs": [],
   "source": [
    "bias_h1 = bias_h1 + np.sum(delta_h1, axis=0) * learning_rate"
   ]
  },
  {
   "cell_type": "code",
   "execution_count": 35,
   "metadata": {},
   "outputs": [
    {
     "data": {
      "text/plain": [
       "array([[ 0.18966,  0.69972,  0.28962]])"
      ]
     },
     "execution_count": 35,
     "metadata": {},
     "output_type": "execute_result"
    }
   ],
   "source": [
    "bias_h1"
   ]
  },
  {
   "cell_type": "markdown",
   "metadata": {},
   "source": [
    "|X|  |  |  |wh  |     |     |bh  |     |     |hidden_layer_input|||hidden_layer_activations|||wout|bout|output|Y|E|\n",
    "|----------|----------------|----------------|----|-----|---------|------|---------|---------|----|----|------|-|-|\n",
    "|1| 0| 1| 0|0.702| 0.842| 0.682|0.189| 0.699| 0.289|1.3 |1.59 |1.07     |0.79  |0.83     |0.7    |0.768|0.22|0.69  |1|0.31|\n",
    "|1| 0| 1| 1|0.728| 0.948| 0.007|    |     |     |1.81|1.79 |1.81     |0.86  |0.86     |0.86     |0.008|    |0.71  |1|0.29|\n",
    "|0| 1| 0| 1|0.412| 0.052| 0.102|    |     |     |1.43|1.85 |1.04     |0.81  |0.86     |0.74     |0.109|    |0.7   |0|-0.7|\n",
    "| |  |  |  |0.508| 0.199| 0.738|    |     |     |    |     |         |      |         |         |    |    |      | | |\n"
   ]
  },
  {
   "cell_type": "code",
   "execution_count": null,
   "metadata": {},
   "outputs": [],
   "source": []
  }
 ],
 "metadata": {
  "kernelspec": {
   "display_name": "Python 2",
   "language": "python",
   "name": "python2"
  },
  "language_info": {
   "codemirror_mode": {
    "name": "ipython",
    "version": 2
   },
   "file_extension": ".py",
   "mimetype": "text/x-python",
   "name": "python",
   "nbconvert_exporter": "python",
   "pygments_lexer": "ipython2",
   "version": "2.7.6"
  }
 },
 "nbformat": 4,
 "nbformat_minor": 1
}
